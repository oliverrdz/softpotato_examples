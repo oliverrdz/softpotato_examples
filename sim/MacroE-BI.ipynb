{
 "cells": [
  {
   "cell_type": "code",
   "execution_count": null,
   "id": "8255fd21-37cb-447c-a0f5-ead7743b0124",
   "metadata": {},
   "outputs": [],
   "source": [
    "from softpotato import *\n",
    "import softpotato as sp\n",
    "\n",
    "import numpy as np\n",
    "import matplotlib.pyplot as plt"
   ]
  },
  {
   "cell_type": "code",
   "execution_count": null,
   "id": "d9d94384-69bf-4dcb-8d17-fbb839946113",
   "metadata": {},
   "outputs": [],
   "source": [
    "sr = np.linspace(0.1,1,10)\n",
    "ns = np.size(sr)\n",
    "\n",
    "i = []\n",
    "for x in range(ns):\n",
    "    wf = sp.tech.Sweep(Eini=0.5, Efin=-0.5, sr=sr[x], dE=0.01)\n",
    "    macro = sp.sim.Macro(wf)\n",
    "    macro.Emech()\n",
    "    macro.BI(dX=1e-3)\n",
    "    i.append(macro.i)\n",
    "i = np.array(i).T\n"
   ]
  },
  {
   "cell_type": "code",
   "execution_count": null,
   "id": "b0b66323-7f77-46fe-a128-1834bf5a8300",
   "metadata": {},
   "outputs": [],
   "source": [
    "iPk = np.min(i,axis=0) # Min because is a reduction\n",
    "\n",
    "# Calculating real Randles Sevcik for comparison:\n",
    "macro = sp.calc.Macro()\n",
    "iPk_real = macro.RandlesSevcik(sr)\n",
    "\n",
    "iRS = np.array([iPk, iPk_real]).T"
   ]
  },
  {
   "cell_type": "code",
   "execution_count": null,
   "id": "55c67052-99f2-44e5-88db-8ff83088b949",
   "metadata": {},
   "outputs": [],
   "source": [
    "sp.plot.plot(wf.E, i, fig=1)\n",
    "sp.plot.plot(np.sqrt(sr), iRS*1e3, xlab=r'$\\nu^{1/2}$ / V$^{1/2}$ s$^{-1/2}$', ylab='$i$ / mA', mark='-o', fig=2)"
   ]
  },
  {
   "cell_type": "code",
   "execution_count": null,
   "id": "e4780628-fed2-487e-b81a-04cb65921fa8",
   "metadata": {},
   "outputs": [],
   "source": [
    "Ageo = 1\n",
    "Rf = 5 # Roughness factor\n",
    "C = 20e-6 # F/cm2, specific capacitance\n",
    "x = 0.1 # cm, Luggin electrode distance\n",
    "kapa = 0.0632 # Ohm-1 cm-1, conductivity for 0.5 M NaCl\n",
    "Cdl = Ageo*Rf*C # F, double layer capacitance\n",
    "Ru = x/(kapa*Ageo) # Ohms, solution resistance\n",
    "\n",
    "CdlRu = [Cdl, Ru]\n",
    "\n",
    "wf = sp.tech.Sweep(Eini=0.25, Efin=-0.25, sr=0.01, dE=0.00001)\n",
    "macro = sp.sim.Macro(wf)\n",
    "macro.Emech(Ageo=Ageo, CdlRu=CdlRu)\n",
    "macro.BI(dX=1e-2)\n"
   ]
  },
  {
   "cell_type": "code",
   "execution_count": null,
   "id": "c57808fa-1f8f-4df9-873b-972b87adf6b1",
   "metadata": {},
   "outputs": [],
   "source": [
    "sp.plot.plot(wf.E, macro.i, fig=3)\n",
    "plt.ylim([-0.0003, 0.0003])"
   ]
  }
 ],
 "metadata": {
  "kernelspec": {
   "display_name": "Python 3 (ipykernel)",
   "language": "python",
   "name": "python3"
  },
  "language_info": {
   "codemirror_mode": {
    "name": "ipython",
    "version": 3
   },
   "file_extension": ".py",
   "mimetype": "text/x-python",
   "name": "python",
   "nbconvert_exporter": "python",
   "pygments_lexer": "ipython3",
   "version": "3.9.6"
  }
 },
 "nbformat": 4,
 "nbformat_minor": 5
}
